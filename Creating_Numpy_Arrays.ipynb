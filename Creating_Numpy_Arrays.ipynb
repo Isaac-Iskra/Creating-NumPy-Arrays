{
 "cells": [
  {
   "cell_type": "code",
   "execution_count": 1,
   "id": "f9347da2-05b9-45f2-abdd-5de1b572b094",
   "metadata": {},
   "outputs": [],
   "source": [
    "import numpy as np"
   ]
  },
  {
   "cell_type": "code",
   "execution_count": 2,
   "id": "f77c095a-9085-497d-abdb-9fb200eea97b",
   "metadata": {},
   "outputs": [
    {
     "name": "stdout",
     "output_type": "stream",
     "text": [
      "[0 1 2 3 4 5 6 7 8 9]\n",
      "(10,)\n"
     ]
    }
   ],
   "source": [
    "a1 = np.arange(10)\n",
    "print(a1)\n",
    "print(a1.shape)"
   ]
  },
  {
   "cell_type": "code",
   "execution_count": 3,
   "id": "2db87c04-6420-4c32-8947-3874c0182377",
   "metadata": {},
   "outputs": [
    {
     "name": "stdout",
     "output_type": "stream",
     "text": [
      "[0 2 4 6 8]\n"
     ]
    }
   ],
   "source": [
    "a2 = np.arange(0, 10, 2)\n",
    "print(a2)"
   ]
  },
  {
   "cell_type": "code",
   "execution_count": 4,
   "id": "f6e6c7f0-9f3e-4c53-80fa-d7dfe858bc50",
   "metadata": {},
   "outputs": [
    {
     "name": "stdout",
     "output_type": "stream",
     "text": [
      "[0. 0. 0. 0. 0.]\n",
      "(5,)\n"
     ]
    }
   ],
   "source": [
    "a3 = np.zeros(5)\n",
    "print(a3)\n",
    "print(a3.shape)"
   ]
  },
  {
   "cell_type": "code",
   "execution_count": 5,
   "id": "bb1d1e72-e677-4319-9531-d3636256bd14",
   "metadata": {},
   "outputs": [
    {
     "name": "stdout",
     "output_type": "stream",
     "text": [
      "(2, 3)\n"
     ]
    }
   ],
   "source": [
    "a4 = np.zeros((2,3))\n",
    "print(a4.shape)"
   ]
  },
  {
   "cell_type": "code",
   "execution_count": 6,
   "id": "35885023-5910-4de5-a256-f3b4b363969e",
   "metadata": {},
   "outputs": [
    {
     "name": "stdout",
     "output_type": "stream",
     "text": [
      "[[0. 0. 0.]\n",
      " [0. 0. 0.]]\n"
     ]
    }
   ],
   "source": [
    "print(a4)"
   ]
  },
  {
   "cell_type": "code",
   "execution_count": 7,
   "id": "d0488bfa-272e-4445-9332-16bd32a5ade4",
   "metadata": {},
   "outputs": [],
   "source": [
    "#a4 is the creating of a two dimensional array.  If we want to create an array filled with a specific number instead of 0, use the full() function as shown below:"
   ]
  },
  {
   "cell_type": "code",
   "execution_count": 8,
   "id": "9634366e-2f35-4e76-a3df-305b0d6710f1",
   "metadata": {},
   "outputs": [
    {
     "name": "stdout",
     "output_type": "stream",
     "text": [
      "[[8 8 8]\n",
      " [8 8 8]]\n"
     ]
    }
   ],
   "source": [
    "a5 = np.full((2,3), 8)\n",
    "print(a5)"
   ]
  },
  {
   "cell_type": "code",
   "execution_count": 9,
   "id": "16864416-43a8-4376-a357-1fac0354b2c9",
   "metadata": {},
   "outputs": [],
   "source": [
    "#Sometimes, you need to create an array that mirrors an identity matrix.  We can do this using an eye() function, as shown below:"
   ]
  },
  {
   "cell_type": "code",
   "execution_count": 10,
   "id": "279e2889-e95a-4fae-8892-1e21582e871c",
   "metadata": {},
   "outputs": [
    {
     "name": "stdout",
     "output_type": "stream",
     "text": [
      "[[1. 0. 0. 0.]\n",
      " [0. 1. 0. 0.]\n",
      " [0. 0. 1. 0.]\n",
      " [0. 0. 0. 1.]]\n"
     ]
    }
   ],
   "source": [
    "a6 = np.eye(4)\n",
    "print(a6)"
   ]
  },
  {
   "cell_type": "code",
   "execution_count": 11,
   "id": "1d2e9e9f-497f-4950-8fab-bf9f6115830e",
   "metadata": {},
   "outputs": [],
   "source": [
    "#The eye() function returns a 2-D array with ones on the diagonal an zeros elsewhere.  To put random numbers anywhere, we can use the random() function, as shown below:"
   ]
  },
  {
   "cell_type": "code",
   "execution_count": 12,
   "id": "d6a0947c-97c2-4854-b0c5-abe1dec9fce7",
   "metadata": {},
   "outputs": [
    {
     "name": "stdout",
     "output_type": "stream",
     "text": [
      "[[0.85993969 0.1963764  0.97432995 0.84477275]\n",
      " [0.30616627 0.7254448  0.1011863  0.70558365]]\n"
     ]
    }
   ],
   "source": [
    "a7 = np.random.random((2,4))\n",
    "print(a7)"
   ]
  },
  {
   "cell_type": "code",
   "execution_count": 13,
   "id": "18ea9809-d73a-4f4a-af97-48322cb677d0",
   "metadata": {},
   "outputs": [],
   "source": [
    "#Another way to create Numpy arrays is to create it from a python list as follows:"
   ]
  },
  {
   "cell_type": "code",
   "execution_count": 14,
   "id": "86ed638b-ae40-439f-9751-ca9cda799791",
   "metadata": {},
   "outputs": [
    {
     "name": "stdout",
     "output_type": "stream",
     "text": [
      "[1 2 3 4 5]\n"
     ]
    }
   ],
   "source": [
    "list1 = [1, 2, 3, 4, 5]\n",
    "r1 = np.array(list1)\n",
    "print(r1)\n",
    "\n",
    "#This is an example of a rank 1 array."
   ]
  },
  {
   "cell_type": "code",
   "execution_count": 15,
   "id": "5f8a9c0c-3f40-4ab4-9fc8-1ef5237476e5",
   "metadata": {},
   "outputs": [],
   "source": [
    "#Now we're going to get into array indexing."
   ]
  },
  {
   "cell_type": "code",
   "execution_count": 16,
   "id": "31500fd6-de4b-4036-b589-a8a23479e2f2",
   "metadata": {},
   "outputs": [],
   "source": [
    "#The following code snippet creates another array named r2, which is two dimensional:"
   ]
  },
  {
   "cell_type": "code",
   "execution_count": 17,
   "id": "2d5ee0e0-84cb-438c-b415-f062a67a2d27",
   "metadata": {},
   "outputs": [
    {
     "name": "stdout",
     "output_type": "stream",
     "text": [
      "[[1 2 3 4 5]\n",
      " [6 7 8 9 0]]\n"
     ]
    }
   ],
   "source": [
    "list2 = [6, 7, 8, 9, 0]\n",
    "r2 = np.array([list1, list2])\n",
    "print(r2)"
   ]
  },
  {
   "cell_type": "code",
   "execution_count": 18,
   "id": "86c98d21-f2da-4fba-94a0-c5600956ada4",
   "metadata": {},
   "outputs": [],
   "source": [
    "#Now we can use indexing to locate values:"
   ]
  },
  {
   "cell_type": "code",
   "execution_count": 19,
   "id": "75ef672e-c7b6-4c2b-bb9e-6018ce93dafc",
   "metadata": {},
   "outputs": [
    {
     "name": "stdout",
     "output_type": "stream",
     "text": [
      "(2, 5)\n"
     ]
    }
   ],
   "source": [
    "print(r2.shape)"
   ]
  },
  {
   "cell_type": "code",
   "execution_count": 20,
   "id": "0760a60f-18e7-46b8-8d5c-44f3ac253450",
   "metadata": {},
   "outputs": [
    {
     "name": "stdout",
     "output_type": "stream",
     "text": [
      "1\n"
     ]
    }
   ],
   "source": [
    "print(r2[0, 0])"
   ]
  },
  {
   "cell_type": "code",
   "execution_count": 21,
   "id": "f5e4b5ca-b0ee-4108-a9b6-28606ddb6afe",
   "metadata": {},
   "outputs": [
    {
     "name": "stdout",
     "output_type": "stream",
     "text": [
      "2\n"
     ]
    }
   ],
   "source": [
    "print(r2[0, 1])"
   ]
  },
  {
   "cell_type": "code",
   "execution_count": 22,
   "id": "77f24795-31ce-4cdb-8a9c-22541f00ba51",
   "metadata": {},
   "outputs": [
    {
     "name": "stdout",
     "output_type": "stream",
     "text": [
      "6\n"
     ]
    }
   ],
   "source": [
    "print(r2[1, 0])"
   ]
  },
  {
   "cell_type": "code",
   "execution_count": 23,
   "id": "fdf9991e-d7f1-45cb-88e2-525130ec411f",
   "metadata": {},
   "outputs": [],
   "source": [
    "#Besides using an index to access elements in an array, you can also use a list as the index as follows:"
   ]
  },
  {
   "cell_type": "code",
   "execution_count": 24,
   "id": "9fa38224-6222-4e35-9410-163599fb44b9",
   "metadata": {},
   "outputs": [
    {
     "name": "stdout",
     "output_type": "stream",
     "text": [
      "[3 5]\n"
     ]
    }
   ],
   "source": [
    "list1 = [1, 2, 3, 4, 5]\n",
    "r1 = np.array(list1)\n",
    "print(r1[[2,4]])"
   ]
  },
  {
   "cell_type": "code",
   "execution_count": 25,
   "id": "af75230a-7b3c-4223-ad36-477f2725270a",
   "metadata": {},
   "outputs": [],
   "source": [
    "#Boolean Indexing"
   ]
  },
  {
   "cell_type": "code",
   "execution_count": 26,
   "id": "fa1ccceb-6628-4867-8951-5e8e794e2c95",
   "metadata": {},
   "outputs": [],
   "source": [
    "#Say for example that you want to retrieve all the odd numbers in the array, you could simply use Boolean indexing as follows:"
   ]
  },
  {
   "cell_type": "code",
   "execution_count": 27,
   "id": "599a1965-6a8c-4147-967d-890def01915e",
   "metadata": {},
   "outputs": [
    {
     "name": "stdout",
     "output_type": "stream",
     "text": [
      "[ 1  3  5  7  9 11 13 15 17 19]\n"
     ]
    }
   ],
   "source": [
    "nums = np.arange(20)\n",
    "odd_num = nums[nums % 2==1]\n",
    "print(odd_num)"
   ]
  },
  {
   "cell_type": "code",
   "execution_count": 28,
   "id": "69760a97-9379-4b31-921d-17ce60b0dcd0",
   "metadata": {},
   "outputs": [],
   "source": [
    "#Slicing Arrays"
   ]
  },
  {
   "cell_type": "code",
   "execution_count": 29,
   "id": "5a7f39d0-f1a7-40a1-a2fa-691d72241350",
   "metadata": {},
   "outputs": [],
   "source": [
    "#Slicing in NumPy arrays is similar to how it works with a Python List.  Consider the following:"
   ]
  },
  {
   "cell_type": "code",
   "execution_count": 30,
   "id": "4183b665-2bda-422d-a57f-9ed2bbb32b48",
   "metadata": {},
   "outputs": [
    {
     "name": "stdout",
     "output_type": "stream",
     "text": [
      "[[1 2 3 4 5]\n",
      " [4 5 6 7 8]\n",
      " [9 8 7 6 5]]\n"
     ]
    }
   ],
   "source": [
    "a = np.array ([[1, 2, 3, 4, 5], [4, 5, 6, 7, 8], [9, 8, 7, 6, 5]])\n",
    "print(a)"
   ]
  },
  {
   "cell_type": "code",
   "execution_count": 31,
   "id": "e959048e-48ce-4a96-bad7-49e0131fe5ad",
   "metadata": {},
   "outputs": [],
   "source": [
    "#To extract the last two rows and first two columns, you can use slicing, as follows:"
   ]
  },
  {
   "cell_type": "code",
   "execution_count": 32,
   "id": "fe3588fc-2af2-4c20-8405-83c0863f158d",
   "metadata": {},
   "outputs": [
    {
     "name": "stdout",
     "output_type": "stream",
     "text": [
      "[[4 5 6]\n",
      " [9 8 7]]\n"
     ]
    }
   ],
   "source": [
    "b1 = a[1:3, :3]\n",
    "print(b1)"
   ]
  },
  {
   "cell_type": "code",
   "execution_count": 33,
   "id": "91ec26d7-2470-475f-8cd0-9d04fd891b56",
   "metadata": {},
   "outputs": [],
   "source": [
    "#What about negative indices?  Consider the following:"
   ]
  },
  {
   "cell_type": "code",
   "execution_count": 34,
   "id": "00552c46-da57-4161-b084-6b1939ceaa49",
   "metadata": {},
   "outputs": [
    {
     "name": "stdout",
     "output_type": "stream",
     "text": [
      "[[7 8]\n",
      " [6 5]]\n"
     ]
    }
   ],
   "source": [
    "b2 = a[-2:, -2:]\n",
    "print(b2)"
   ]
  },
  {
   "cell_type": "code",
   "execution_count": 35,
   "id": "7b70ed86-33bd-4291-ad87-8aa8e44e9ef8",
   "metadata": {},
   "outputs": [],
   "source": [
    "#It is Noteworthy that the result of a NumPy slice is a reference and not a copy of the original array.  Consider the following:"
   ]
  },
  {
   "cell_type": "code",
   "execution_count": 36,
   "id": "374f7462-78cb-4d80-9154-3de057531c23",
   "metadata": {},
   "outputs": [
    {
     "name": "stdout",
     "output_type": "stream",
     "text": [
      "[[6 7 8]\n",
      " [7 6 5]]\n"
     ]
    }
   ],
   "source": [
    "b3 = a[1:, 2:]\n",
    "print(b3)"
   ]
  },
  {
   "cell_type": "code",
   "execution_count": 37,
   "id": "c2bca768-d9ac-4784-96b4-5fab16de4fa5",
   "metadata": {},
   "outputs": [],
   "source": [
    "#If you were to change one of the elements in b3 as follows:"
   ]
  },
  {
   "cell_type": "code",
   "execution_count": 38,
   "id": "0cb08a16-f2da-48bd-b079-8071c7c58b33",
   "metadata": {},
   "outputs": [
    {
     "name": "stdout",
     "output_type": "stream",
     "text": [
      "[[ 1  2  3  4  5]\n",
      " [ 4  5  6  7 88]\n",
      " [ 9  8  7  6  5]]\n"
     ]
    }
   ],
   "source": [
    "b3[0, 2] = 88\n",
    "print(a)"
   ]
  },
  {
   "cell_type": "markdown",
   "id": "693aff93-6423-45fb-9dca-03f5e11ddcd9",
   "metadata": {
    "tags": []
   },
   "source": [
    "#The result will affect the original array."
   ]
  },
  {
   "cell_type": "code",
   "execution_count": 39,
   "id": "90681bbc-8187-4a3a-9f58-1ae95ab7a733",
   "metadata": {},
   "outputs": [],
   "source": [
    "#another salient point to note is that the result of the slicing is dependent on how you slice it.  Here's an example:"
   ]
  },
  {
   "cell_type": "code",
   "execution_count": 40,
   "id": "a10ba28a-f479-49ae-92e2-bae952ebe18f",
   "metadata": {},
   "outputs": [
    {
     "name": "stdout",
     "output_type": "stream",
     "text": [
      "[[9 8 7 6 5]]\n",
      "(1, 5)\n"
     ]
    }
   ],
   "source": [
    "b4 = a[2:, :]\n",
    "print(b4)\n",
    "print(b4.shape)"
   ]
  },
  {
   "cell_type": "code",
   "execution_count": 42,
   "id": "67c19a89-7675-4d99-b79d-64a9dc1ddd7f",
   "metadata": {},
   "outputs": [],
   "source": [
    "#The result above is a rank 2 array#"
   ]
  },
  {
   "cell_type": "code",
   "execution_count": null,
   "id": "c731d5b2-761b-426a-aa1a-7e12bcdc180e",
   "metadata": {},
   "outputs": [],
   "source": [
    "#you can reshape an array to another dimension using the reshape() function.  Using the b5, you can reshape to a rank 2 array as follows:"
   ]
  },
  {
   "cell_type": "code",
   "execution_count": 43,
   "id": "ad9735bf-40c3-467f-828d-7ebd732e1e47",
   "metadata": {},
   "outputs": [
    {
     "name": "stdout",
     "output_type": "stream",
     "text": [
      "[[9 8 7 6 5]]\n"
     ]
    }
   ],
   "source": [
    "b5 = a[2, :]\n",
    "b5 = b5.reshape(1, -1)\n",
    "print(b5)\n",
    "\n",
    "#In this example, you call the reshape() function with wto arguments.  The first 1 indicates that you want to convert it into rank 2 array with 1 row, and the -1 indicates that you will leave it to the reshape() function to create the correct number of collumns."
   ]
  },
  {
   "cell_type": "code",
   "execution_count": null,
   "id": "4647349e-fada-495a-b7fa-5bee57ef745d",
   "metadata": {},
   "outputs": [],
   "source": [
    "#If you want to convert a rank 2 to a rank 1, use the flatten() or ravel() functions."
   ]
  },
  {
   "cell_type": "code",
   "execution_count": null,
   "id": "c445f5ea-3a85-4215-ae05-f7def433bf3e",
   "metadata": {},
   "outputs": [],
   "source": [
    "#Array Math!  You can perform array math very easily with NumPy arrays."
   ]
  },
  {
   "cell_type": "code",
   "execution_count": null,
   "id": "7bbf74ed-8fac-418a-baaf-05e30621b966",
   "metadata": {},
   "outputs": [],
   "source": [
    "#you can add two arrays together as follows with the + operator:"
   ]
  },
  {
   "cell_type": "code",
   "execution_count": 45,
   "id": "6eb52045-0a62-4921-8b14-6329796dec4f",
   "metadata": {},
   "outputs": [
    {
     "name": "stdout",
     "output_type": "stream",
     "text": [
      "[[ 8 10 12]\n",
      " [ 6  8 10]]\n"
     ]
    }
   ],
   "source": [
    "x1 = np.array([[1, 2, 3] , [4, 5, 6]])\n",
    "y1 = np.array([[7, 8, 9] , [2, 3, 4]])\n",
    "print(x1 + y1)"
   ]
  },
  {
   "cell_type": "code",
   "execution_count": null,
   "id": "5a5bfb82-0ddf-4afd-b1c7-a7f0663912aa",
   "metadata": {},
   "outputs": [],
   "source": [
    "#array math can be used to perform vector calculations, as follows:"
   ]
  },
  {
   "cell_type": "code",
   "execution_count": 46,
   "id": "58b8d580-cca2-4d55-bfc5-478001c9784f",
   "metadata": {},
   "outputs": [],
   "source": [
    "x = np.array([2,3])\n",
    "y = np.array([4,2])\n",
    "z = x + y\n"
   ]
  },
  {
   "cell_type": "code",
   "execution_count": null,
   "id": "4b00ecae-b0cd-4c95-b57d-c4b8a2ee7dcd",
   "metadata": {},
   "outputs": [],
   "source": [
    "#the same can be done for subtraction, multiplication and division."
   ]
  },
  {
   "cell_type": "code",
   "execution_count": null,
   "id": "27577813-46df-4228-b149-a794c84048c6",
   "metadata": {},
   "outputs": [],
   "source": [
    "#Dot product.  Note that when you're multiplying two arrays, you are actually multiplying each of the corresponding elements in the two arrays.  Very often, you want to perform a scalar product.  It takes two coordinate vectors of equal size and returns a single number.  Example is as follows:"
   ]
  },
  {
   "cell_type": "code",
   "execution_count": 47,
   "id": "40d1fa65-49d0-4296-99cb-1958b5b21f8d",
   "metadata": {},
   "outputs": [
    {
     "data": {
      "text/plain": [
       "14"
      ]
     },
     "execution_count": 47,
     "metadata": {},
     "output_type": "execute_result"
    }
   ],
   "source": [
    "x = np.array([2, 3])\n",
    "y = np.array([4,2])\n",
    "np.dot(x, y)"
   ]
  },
  {
   "cell_type": "code",
   "execution_count": null,
   "id": "d46dd686-fa2e-4e32-96e4-a77d40407e26",
   "metadata": {},
   "outputs": [],
   "source": [
    "#You can also use a matrix.  The matrix class is a subclass of the ndarray, and it is basically identical to the ndarray with one notable exception, a matrix is strictly two dimentional, where as an ndarray is multidimensional.  "
   ]
  },
  {
   "cell_type": "markdown",
   "id": "fcbe6e52-4f54-4a26-8aa8-4e18ff15e39a",
   "metadata": {},
   "source": [
    "# An example as follows:"
   ]
  },
  {
   "cell_type": "code",
   "execution_count": 48,
   "id": "700a2e76-b07d-4b18-8c15-ef002a882a36",
   "metadata": {},
   "outputs": [],
   "source": [
    "x1 = np.array([[1, 2] , [4, 5]])\n",
    "y1 = np.array([[7, 8] , [2, 3]])\n",
    "x1 = np.asmatrix(x1)\n",
    "y1 = np.asmatrix(y1)"
   ]
  },
  {
   "cell_type": "code",
   "execution_count": null,
   "id": "86d5b038-84d5-4336-afd9-b452a6bc7256",
   "metadata": {},
   "outputs": [],
   "source": []
  }
 ],
 "metadata": {
  "kernelspec": {
   "display_name": "Python 3 (ipykernel)",
   "language": "python",
   "name": "python3"
  },
  "language_info": {
   "codemirror_mode": {
    "name": "ipython",
    "version": 3
   },
   "file_extension": ".py",
   "mimetype": "text/x-python",
   "name": "python",
   "nbconvert_exporter": "python",
   "pygments_lexer": "ipython3",
   "version": "3.8.8"
  }
 },
 "nbformat": 4,
 "nbformat_minor": 5
}
